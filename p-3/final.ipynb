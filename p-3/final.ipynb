{
 "cells": [
  {
   "cell_type": "markdown",
   "metadata": {},
   "source": [
    "# EMG Dataset [Task]"
   ]
  },
  {
   "cell_type": "markdown",
   "metadata": {},
   "source": [
    "### All Imports"
   ]
  },
  {
   "cell_type": "code",
   "execution_count": 15,
   "metadata": {},
   "outputs": [
    {
     "name": "stdout",
     "output_type": "stream",
     "text": [
      "[+] Imported all required packages\n"
     ]
    }
   ],
   "source": [
    "# imports\n",
    "import os\n",
    "import joblib\n",
    "import pandas as pd\n",
    "from sklearn.model_selection import train_test_split\n",
    "from sklearn.neighbors import KNeighborsClassifier\n",
    "from sklearn.svm import SVC\n",
    "from sklearn.utils.multiclass import unique_labels\n",
    "from sklearn.ensemble import RandomForestClassifier\n",
    "from sklearn.metrics import accuracy_score, precision_score, f1_score, recall_score, precision_recall_curve, confusion_matrix\n",
    "from sklearn.model_selection import cross_val_score\n",
    "from seaborn import heatmap\n",
    "import matplotlib.pyplot as plt\n",
    "\n",
    "print(\"[+] Imported all required packages\")"
   ]
  },
  {
   "cell_type": "code",
   "execution_count": 2,
   "metadata": {},
   "outputs": [
    {
     "name": "stdout",
     "output_type": "stream",
     "text": [
      "['feature.joblib', 'info', 'knn_model.joblib', 'labels.joblib', 'main.ipynb', 'main2.ipynb', 'Ninapro_DB1', 'rndf_model.joblib', 'svm_model.joblib', 'test_features.joblib', 'test_labels.joblib', 'train_features.joblib', 'train_labels.joblib']\n"
     ]
    }
   ],
   "source": [
    "# listing the current directory\n",
    "print(os.listdir(\".\"))"
   ]
  },
  {
   "cell_type": "markdown",
   "metadata": {},
   "source": [
    "### Creating a new CSV file with Shuffled Data"
   ]
  },
  {
   "cell_type": "code",
   "execution_count": 3,
   "metadata": {},
   "outputs": [],
   "source": [
    "# dataset path\n",
    "dirName = \"Ninapro_DB1\"\n",
    "filepath = f\"./{dirName}/Ninapro_DB1.csv\"\n",
    "shuffled_data_filepath = f\"./{dirName}/shuffled_data.csv\"\n",
    "\n",
    "\n",
    "# Read the entire CSV file and shuffle the data -> to work with SVM\n",
    "def create_shuffled_data():\n",
    "    data = pd.read_csv(filepath)\n",
    "    shuffled_data = data.sample(frac=1, random_state=98)\n",
    "    shuffled_data.to_csv(shuffled_data_filepath, index=False)\n",
    "    print(f\"[+] Data loaded and shuffled and save to {shuffled_data_filepath}\")\n",
    "    # showing the shuffled data\n",
    "    shuffled_data.head()\n",
    "\n",
    "\n",
    "# create_shuffled_data()"
   ]
  },
  {
   "cell_type": "markdown",
   "metadata": {},
   "source": [
    "### Custom Script for model training"
   ]
  },
  {
   "cell_type": "code",
   "execution_count": 5,
   "metadata": {},
   "outputs": [],
   "source": [
    "# not required column names\n",
    "cols = [\"Unnamed: 0\", \"stimulus\", \"restimulus\",\n",
    "        \"repetition\", \"rerepetition\", \"subject\"]\n",
    "\n",
    "# Models\n",
    "KNN = KNeighborsClassifier(n_neighbors=5,\n",
    "                           weights=\"distance\",\n",
    "                           algorithm=\"auto\",\n",
    "                           leaf_size=50)\n",
    "\n",
    "SVM = SVC(kernel=\"linear\", C=1)\n",
    "\n",
    "RNDF = RandomForestClassifier(n_estimators=100,\n",
    "                              criterion=\"log_loss\")\n",
    "\n",
    "# Variables\n",
    "_X = pd.DataFrame()\n",
    "_y = pd.Series()\n",
    "_X_train = pd.DataFrame()\n",
    "_y_train = pd.Series()\n",
    "_X_test = pd.DataFrame()\n",
    "_y_test = pd.Series()\n",
    "\n",
    "\n",
    "# start script\n",
    "def _start_(model_name, shuffled_data, chunk_size,  concat: bool = False):\n",
    "    global _X, _y, _X_train, _y_train, _X_test, _y_test\n",
    "\n",
    "    print(f\"\\n[+] Training {model_name}\")\n",
    "\n",
    "    # helper function\n",
    "    def _concat_(_A, a):\n",
    "        if _A is None:\n",
    "            _A = a\n",
    "        else:\n",
    "            _A = pd.concat([_A, a], ignore_index=True)\n",
    "        return _A\n",
    "\n",
    "    # creating the chunk reader\n",
    "    csv_chunk_reader = pd.read_csv(filepath_or_buffer=shuffled_data,\n",
    "                                   chunksize=int(chunk_size),\n",
    "                                   na_filter=False)\n",
    "\n",
    "    # reading chunk-by-chunk\n",
    "    for chunk in csv_chunk_reader:\n",
    "        print(\"\\n[*] Running on new chunk\")\n",
    "        # dropping the columns\n",
    "        chunk.drop(cols, axis=1, inplace=True)\n",
    "\n",
    "        # features / labels\n",
    "        X = chunk.iloc[:, :-1]\n",
    "        y = chunk.iloc[:, -1]\n",
    "        print(\"features:\", X.shape)\n",
    "        print(\"label:\", y.shape)\n",
    "        print(y.value_counts(sort=True, ascending=True, dropna=False))\n",
    "\n",
    "        # checking for unique labels\n",
    "        unique_classes_chunk = unique_labels(y)\n",
    "\n",
    "        if len(unique_classes_chunk) < 2:\n",
    "            print(\"[-] Skipping chunk with only one class.\")\n",
    "            continue\n",
    "\n",
    "        # train-test splitting\n",
    "        X_train, X_test, y_train, y_test = train_test_split(X, y,\n",
    "                                                            test_size=0.2,\n",
    "                                                            train_size=0.8,\n",
    "                                                            shuffle=True,\n",
    "                                                            random_state=98)\n",
    "        print(\"Splitted into train(80%) and test (20%)\")\n",
    "        print(\"X_train:\", X_train.shape)\n",
    "        print(\"y_train:\", y_train.shape)\n",
    "        print(\"X_test:\", X_test.shape)\n",
    "        print(\"y_test:\", y_test.shape)\n",
    "\n",
    "        # fitting into the model\n",
    "        model_name.fit(X_train, y_train)\n",
    "        print(f\"[+] Fitted model {model_name}\")\n",
    "\n",
    "        # concatenating the features and labels\n",
    "        if concat:\n",
    "            _X = _concat_(_X, X)\n",
    "            _y = _concat_(_y, y)\n",
    "            _X_train = _concat_(_X_train, X_train)\n",
    "            _y_train = _concat_(_y_train, y_train)\n",
    "            _X_test = _concat_(_X_test, X_test)\n",
    "            _y_test = _concat_(_y_test, y_test)\n",
    "            print(\"[+] Concatenated Chunk\")\n",
    "\n",
    "    print(f\"\\n[+] {model_name} trained successfully\")"
   ]
  },
  {
   "cell_type": "code",
   "execution_count": 6,
   "metadata": {},
   "outputs": [],
   "source": [
    "# save the model(s) to the file(s)\n",
    "def save_model(_name, file_name: str = \"1.joblib\"):\n",
    "    joblib.dump(_name, filename=file_name)\n",
    "    print(f\"[+] {_name} saved to {file_name}\")"
   ]
  },
  {
   "cell_type": "markdown",
   "metadata": {},
   "source": [
    "### Set Chunk Size"
   ]
  },
  {
   "cell_type": "code",
   "execution_count": 7,
   "metadata": {},
   "outputs": [],
   "source": [
    "CHUNK_SIZE = 1e6"
   ]
  },
  {
   "cell_type": "markdown",
   "metadata": {},
   "source": [
    "### Training"
   ]
  },
  {
   "cell_type": "markdown",
   "metadata": {},
   "source": [
    "#### Training KNN"
   ]
  },
  {
   "cell_type": "code",
   "execution_count": 8,
   "metadata": {},
   "outputs": [
    {
     "name": "stdout",
     "output_type": "stream",
     "text": [
      "\n",
      "[+] Training KNeighborsClassifier(leaf_size=50, weights='distance')\n",
      "\n",
      "[*] Running on new chunk\n",
      "features: (1000000, 32)\n",
      "label: (1000000,)\n",
      "exercise\n",
      "1    218071\n",
      "2    307738\n",
      "3    474191\n",
      "Name: count, dtype: int64\n",
      "Splitted into train(80%) and test (20%)\n",
      "X_train: (800000, 32)\n",
      "y_train: (800000,)\n",
      "X_test: (200000, 32)\n",
      "y_test: (200000,)\n",
      "[+] Fitted model KNeighborsClassifier(leaf_size=50, weights='distance')\n",
      "[+] Concatenated Chunk\n",
      "\n",
      "[*] Running on new chunk\n",
      "features: (1000000, 32)\n",
      "label: (1000000,)\n",
      "exercise\n",
      "1    217072\n",
      "2    308011\n",
      "3    474917\n",
      "Name: count, dtype: int64\n",
      "Splitted into train(80%) and test (20%)\n",
      "X_train: (800000, 32)\n",
      "y_train: (800000,)\n",
      "X_test: (200000, 32)\n",
      "y_test: (200000,)\n",
      "[+] Fitted model KNeighborsClassifier(leaf_size=50, weights='distance')\n",
      "[+] Concatenated Chunk\n",
      "\n",
      "[*] Running on new chunk\n",
      "features: (1000000, 32)\n",
      "label: (1000000,)\n",
      "exercise\n",
      "1    217944\n",
      "2    308213\n",
      "3    473843\n",
      "Name: count, dtype: int64\n",
      "Splitted into train(80%) and test (20%)\n",
      "X_train: (800000, 32)\n",
      "y_train: (800000,)\n",
      "X_test: (200000, 32)\n",
      "y_test: (200000,)\n",
      "[+] Fitted model KNeighborsClassifier(leaf_size=50, weights='distance')\n",
      "[+] Concatenated Chunk\n",
      "\n",
      "[*] Running on new chunk\n",
      "features: (1000000, 32)\n",
      "label: (1000000,)\n",
      "exercise\n",
      "1    217555\n",
      "2    307740\n",
      "3    474705\n",
      "Name: count, dtype: int64\n",
      "Splitted into train(80%) and test (20%)\n",
      "X_train: (800000, 32)\n",
      "y_train: (800000,)\n",
      "X_test: (200000, 32)\n",
      "y_test: (200000,)\n",
      "[+] Fitted model KNeighborsClassifier(leaf_size=50, weights='distance')\n",
      "[+] Concatenated Chunk\n",
      "\n",
      "[*] Running on new chunk\n",
      "features: (1000000, 32)\n",
      "label: (1000000,)\n",
      "exercise\n",
      "1    218044\n",
      "2    308008\n",
      "3    473948\n",
      "Name: count, dtype: int64\n",
      "Splitted into train(80%) and test (20%)\n",
      "X_train: (800000, 32)\n",
      "y_train: (800000,)\n",
      "X_test: (200000, 32)\n",
      "y_test: (200000,)\n",
      "[+] Fitted model KNeighborsClassifier(leaf_size=50, weights='distance')\n",
      "[+] Concatenated Chunk\n",
      "\n",
      "[*] Running on new chunk\n",
      "features: (1000000, 32)\n",
      "label: (1000000,)\n",
      "exercise\n",
      "1    217400\n",
      "2    308602\n",
      "3    473998\n",
      "Name: count, dtype: int64\n",
      "Splitted into train(80%) and test (20%)\n",
      "X_train: (800000, 32)\n",
      "y_train: (800000,)\n",
      "X_test: (200000, 32)\n",
      "y_test: (200000,)\n",
      "[+] Fitted model KNeighborsClassifier(leaf_size=50, weights='distance')\n",
      "[+] Concatenated Chunk\n",
      "\n",
      "[*] Running on new chunk\n",
      "features: (1000000, 32)\n",
      "label: (1000000,)\n",
      "exercise\n",
      "1    217123\n",
      "2    308334\n",
      "3    474543\n",
      "Name: count, dtype: int64\n",
      "Splitted into train(80%) and test (20%)\n",
      "X_train: (800000, 32)\n",
      "y_train: (800000,)\n",
      "X_test: (200000, 32)\n",
      "y_test: (200000,)\n",
      "[+] Fitted model KNeighborsClassifier(leaf_size=50, weights='distance')\n",
      "[+] Concatenated Chunk\n",
      "\n",
      "[*] Running on new chunk\n",
      "features: (1000000, 32)\n",
      "label: (1000000,)\n",
      "exercise\n",
      "1    218072\n",
      "2    308233\n",
      "3    473695\n",
      "Name: count, dtype: int64\n",
      "Splitted into train(80%) and test (20%)\n",
      "X_train: (800000, 32)\n",
      "y_train: (800000,)\n",
      "X_test: (200000, 32)\n",
      "y_test: (200000,)\n",
      "[+] Fitted model KNeighborsClassifier(leaf_size=50, weights='distance')\n",
      "[+] Concatenated Chunk\n",
      "\n",
      "[*] Running on new chunk\n",
      "features: (1000000, 32)\n",
      "label: (1000000,)\n",
      "exercise\n",
      "1    217621\n",
      "2    308364\n",
      "3    474015\n",
      "Name: count, dtype: int64\n",
      "Splitted into train(80%) and test (20%)\n",
      "X_train: (800000, 32)\n",
      "y_train: (800000,)\n",
      "X_test: (200000, 32)\n",
      "y_test: (200000,)\n",
      "[+] Fitted model KNeighborsClassifier(leaf_size=50, weights='distance')\n",
      "[+] Concatenated Chunk\n",
      "\n",
      "[*] Running on new chunk\n",
      "features: (1000000, 32)\n",
      "label: (1000000,)\n",
      "exercise\n",
      "1    217938\n",
      "2    307622\n",
      "3    474440\n",
      "Name: count, dtype: int64\n",
      "Splitted into train(80%) and test (20%)\n",
      "X_train: (800000, 32)\n",
      "y_train: (800000,)\n",
      "X_test: (200000, 32)\n",
      "y_test: (200000,)\n",
      "[+] Fitted model KNeighborsClassifier(leaf_size=50, weights='distance')\n",
      "[+] Concatenated Chunk\n",
      "\n",
      "[*] Running on new chunk\n",
      "features: (1000000, 32)\n",
      "label: (1000000,)\n",
      "exercise\n",
      "1    216461\n",
      "2    308522\n",
      "3    475017\n",
      "Name: count, dtype: int64\n",
      "Splitted into train(80%) and test (20%)\n",
      "X_train: (800000, 32)\n",
      "y_train: (800000,)\n",
      "X_test: (200000, 32)\n",
      "y_test: (200000,)\n",
      "[+] Fitted model KNeighborsClassifier(leaf_size=50, weights='distance')\n",
      "[+] Concatenated Chunk\n",
      "\n",
      "[*] Running on new chunk\n",
      "features: (1000000, 32)\n",
      "label: (1000000,)\n",
      "exercise\n",
      "1    217725\n",
      "2    308194\n",
      "3    474081\n",
      "Name: count, dtype: int64\n",
      "Splitted into train(80%) and test (20%)\n",
      "X_train: (800000, 32)\n",
      "y_train: (800000,)\n",
      "X_test: (200000, 32)\n",
      "y_test: (200000,)\n",
      "[+] Fitted model KNeighborsClassifier(leaf_size=50, weights='distance')\n",
      "[+] Concatenated Chunk\n",
      "\n",
      "[*] Running on new chunk\n",
      "features: (553611, 32)\n",
      "label: (553611,)\n",
      "exercise\n",
      "1    120367\n",
      "2    170987\n",
      "3    262257\n",
      "Name: count, dtype: int64\n",
      "Splitted into train(80%) and test (20%)\n",
      "X_train: (442888, 32)\n",
      "y_train: (442888,)\n",
      "X_test: (110723, 32)\n",
      "y_test: (110723,)\n",
      "[+] Fitted model KNeighborsClassifier(leaf_size=50, weights='distance')\n",
      "[+] Concatenated Chunk\n",
      "\n",
      "[+] KNN trained successfully\n"
     ]
    }
   ],
   "source": [
    "# starting the training process\n",
    "_start_(model_name=KNN,\n",
    "        shuffled_data=shuffled_data_filepath,\n",
    "        chunk_size=CHUNK_SIZE,\n",
    "        concat=True)\n",
    "\n",
    "save_model(KNN, \"knn_model.joblib\")"
   ]
  },
  {
   "cell_type": "markdown",
   "metadata": {},
   "source": [
    "#### Saving the variables"
   ]
  },
  {
   "cell_type": "code",
   "execution_count": 9,
   "metadata": {},
   "outputs": [
    {
     "name": "stdout",
     "output_type": "stream",
     "text": [
      "features: (12553611, 32)\n",
      "labels: (12553611,)\n",
      "features: (10042888, 32)\n",
      "labels: (10042888,)\n",
      "test features: (2510723, 32)\n",
      "test labels: (2510723,)\n"
     ]
    },
    {
     "data": {
      "text/plain": [
       "['test_labels.joblib']"
      ]
     },
     "execution_count": 9,
     "metadata": {},
     "output_type": "execute_result"
    }
   ],
   "source": [
    "# info\n",
    "print(\"features:\", _X.shape)\n",
    "print(\"labels:\", _y.shape)\n",
    "print(\"features:\", _X_train.shape)\n",
    "print(\"labels:\", _y_train.shape)\n",
    "print(\"test features:\", _X_test.shape)\n",
    "print(\"test labels:\", _y_test.shape)\n",
    "\n",
    "# saving the variables\n",
    "joblib.dump(_X, \"feature.joblib\")\n",
    "joblib.dump(_y, \"labels.joblib\")\n",
    "joblib.dump(_X_train, \"train_features.joblib\")\n",
    "joblib.dump(_y_train, \"train_labels.joblib\")\n",
    "joblib.dump(_X_test, \"test_features.joblib\")\n",
    "joblib.dump(_y_test, \"test_labels.joblib\")"
   ]
  },
  {
   "cell_type": "code",
   "execution_count": 22,
   "metadata": {},
   "outputs": [],
   "source": [
    "_X = joblib.load(filename=\"./feature.joblib\")\n",
    "_y = joblib.load(filename=\"./labels.joblib\")\n",
    "\n",
    "_X_train = joblib.load(filename=\"./train_feature.joblib\")\n",
    "_y_train = joblib.load(filename=\"./train_labels.joblib\")\n",
    "\n",
    "_X_test = joblib.load(filename=\"./test_features.joblib\")\n",
    "_y_test = joblib.load(filename=\"./test_labels.joblib\")"
   ]
  },
  {
   "cell_type": "markdown",
   "metadata": {},
   "source": [
    "#### Predictions KNN"
   ]
  },
  {
   "cell_type": "code",
   "execution_count": 11,
   "metadata": {},
   "outputs": [
    {
     "name": "stdout",
     "output_type": "stream",
     "text": [
      "KNN predictions: [3 3 1 ... 2 1 3]\n"
     ]
    }
   ],
   "source": [
    "# predictions\n",
    "KNN = joblib.load(filename=\"./knn_model.joblib\")\n",
    "\n",
    "knn_predicts = KNN.predict(_X_test)\n",
    "print(\"KNN predictions:\", knn_predicts)"
   ]
  },
  {
   "cell_type": "markdown",
   "metadata": {},
   "source": [
    "#### Training Random Forest"
   ]
  },
  {
   "cell_type": "code",
   "execution_count": null,
   "metadata": {},
   "outputs": [],
   "source": [
    "_start_(model_name=RNDF,\n",
    "        shuffled_data=shuffled_data_filepath,\n",
    "        chunk_size=CHUNK_SIZE,\n",
    "        concat=False)\n",
    "\n",
    "save_model(RNDF, \"rndf_model.joblib\")"
   ]
  },
  {
   "cell_type": "markdown",
   "metadata": {},
   "source": [
    "#### Predictions Random Forest"
   ]
  },
  {
   "cell_type": "code",
   "execution_count": 20,
   "metadata": {},
   "outputs": [
    {
     "name": "stdout",
     "output_type": "stream",
     "text": [
      "Random Forest predictions: [3 3 1 ... 2 1 3]\n"
     ]
    }
   ],
   "source": [
    "# predictions\n",
    "RNDF = joblib.load(filename=\"./rndf_model.joblib\")\n",
    "\n",
    "rndf_predicts = RNDF.predict(_X_test)\n",
    "print(\"Random Forest predictions:\", rndf_predicts)"
   ]
  },
  {
   "cell_type": "markdown",
   "metadata": {},
   "source": [
    "#### Training SVM"
   ]
  },
  {
   "cell_type": "code",
   "execution_count": null,
   "metadata": {},
   "outputs": [],
   "source": [
    "_start_(model_name=SVM,\n",
    "        shuffled_data=shuffled_data_filepath,\n",
    "        chunk_size=CHUNK_SIZE,\n",
    "        concat=False)\n",
    "\n",
    "save_model(SVM, \"svm_model.joblib\")"
   ]
  },
  {
   "cell_type": "markdown",
   "metadata": {},
   "source": [
    "#### Predictions SVM"
   ]
  },
  {
   "cell_type": "code",
   "execution_count": null,
   "metadata": {},
   "outputs": [],
   "source": [
    "# predictions\n",
    "SVM = joblib.load(filename=\"./svm_model.joblib\")\n",
    "\n",
    "svm_predicts = SVM.predict(_X_test)\n",
    "print(\"SVM predictions:\", svm_predicts)"
   ]
  },
  {
   "cell_type": "markdown",
   "metadata": {},
   "source": [
    "### Performance Measures / Evaluation of Model(s)"
   ]
  },
  {
   "cell_type": "code",
   "execution_count": 18,
   "metadata": {},
   "outputs": [],
   "source": [
    "# accuracies\n",
    "def calc_cross_val_score(classifier, X, y):\n",
    "    accuracies = cross_val_score(estimator=classifier, X=X, y=y, cv=10)\n",
    "    print(\"Mean:\", accuracies.mean())\n",
    "    print(\"Standard deviation:\", accuracies.std())\n",
    "\n",
    "\n",
    "# performance measures\n",
    "def measure_performance(yTrue, yPred):\n",
    "    accuracy = accuracy_score(y_true=yTrue, y_pred=yPred)\n",
    "    print(\"Accuracy:\\n\", accuracy)\n",
    "\n",
    "    precision = precision_score(y_true=yTrue, y_pred=yPred, average=\"weighted\")\n",
    "    print(\"Precision:\\n\", precision)\n",
    "\n",
    "    recall = recall_score(y_true=yTrue, y_pred=yPred, average=\"weighted\")\n",
    "    print(\"Recall:\\n\", recall)\n",
    "\n",
    "    f1 = f1_score(y_true=yTrue, y_pred=yPred, average=\"weighted\")\n",
    "    print(\"f1 Score:\\n\", f1)\n",
    "\n",
    "    cm = confusion_matrix(y_true=yTrue, y_pred=yPred)\n",
    "    heatmap(cm, annot=True, fmt='d', cmap=\"Blues\")\n",
    "    print(\"Confusion matrix:\\n\", cm)"
   ]
  },
  {
   "cell_type": "markdown",
   "metadata": {},
   "source": [
    "#### KNN Evaluation"
   ]
  },
  {
   "cell_type": "code",
   "execution_count": 23,
   "metadata": {},
   "outputs": [],
   "source": [
    "calc_cross_val_score(KNN, _X, _y)"
   ]
  },
  {
   "cell_type": "code",
   "execution_count": 19,
   "metadata": {},
   "outputs": [
    {
     "name": "stdout",
     "output_type": "stream",
     "text": [
      "Accuracy:\n",
      " 0.9966850186181431\n",
      "Precision:\n",
      " 0.9966859806647965\n",
      "Recall:\n",
      " 0.9966850186181431\n",
      "f1 Score:\n",
      " 0.9966833375429903\n",
      "Confusion matrix:\n",
      " [[ 545623     970     183]\n",
      " [   2550  767480    3140]\n",
      " [    127    1353 1189297]]\n"
     ]
    },
    {
     "data": {
      "image/png": "[encoded data removed]",
      "text/plain": [
       "<Figure size 640x480 with 2 Axes>"
      ]
     },
     "metadata": {},
     "output_type": "display_data"
    }
   ],
   "source": [
    "measure_performance(_y_test, knn_predicts)"
   ]
  },
  {
   "cell_type": "markdown",
   "metadata": {},
   "source": [
    "#### Random Forest Evaluation"
   ]
  },
  {
   "cell_type": "code",
   "execution_count": null,
   "metadata": {},
   "outputs": [],
   "source": [
    "calc_cross_val_score(RNDF, _X, _y)"
   ]
  },
  {
   "cell_type": "code",
   "execution_count": 21,
   "metadata": {},
   "outputs": [
    {
     "name": "stdout",
     "output_type": "stream",
     "text": [
      "Accuracy:\n",
      " 0.9955379386734419\n",
      "Precision:\n",
      " 0.9955403954719293\n",
      "Recall:\n",
      " 0.9955379386734419\n",
      "f1 Score:\n",
      " 0.9955354814090122\n",
      "Confusion matrix:\n",
      " [[ 544322    1924     530]\n",
      " [   1196  766116    5858]\n",
      " [    116    1579 1189082]]\n"
     ]
    },
    {
     "data": {
      "image/png": "[encoded data removed]",
      "text/plain": [
       "<Figure size 640x480 with 2 Axes>"
      ]
     },
     "metadata": {},
     "output_type": "display_data"
    }
   ],
   "source": [
    "measure_performance(_y_test, rndf_predicts)"
   ]
  },
  {
   "cell_type": "markdown",
   "metadata": {},
   "source": [
    "#### SVM Evaluation"
   ]
  },
  {
   "cell_type": "code",
   "execution_count": null,
   "metadata": {},
   "outputs": [],
   "source": [
    "# calc_cross_val_score(SVM, _X, _y)\n",
    "measure_performance(_y_test, svm_predicts)"
   ]
  }
 ],
 "metadata": {
  "kernelspec": {
   "display_name": "Python 3",
   "language": "python",
   "name": "python3"
  },
  "language_info": {
   "codemirror_mode": {
    "name": "ipython",
    "version": 3
   },
   "file_extension": ".py",
   "mimetype": "text/x-python",
   "name": "python",
   "nbconvert_exporter": "python",
   "pygments_lexer": "ipython3",
   "version": "3.11.2"
  }
 },
 "nbformat": 4,
 "nbformat_minor": 2
}
