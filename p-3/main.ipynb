{
 "cells": [
  {
   "cell_type": "code",
   "execution_count": null,
   "metadata": {},
   "outputs": [],
   "source": [
    "# imports\n",
    "import os\n",
    "import pandas as pd\n",
    "from sklearn.model_selection import train_test_split\n",
    "from sklearn.neighbors import KNeighborsClassifier\n",
    "from sklearn import svm\n",
    "from sklearn.ensemble import RandomForestClassifier\n",
    "from sklearn.metrics import confusion_matrix\n",
    "from sklearn.model_selection import cross_val_score"
   ]
  },
  {
   "cell_type": "code",
   "execution_count": null,
   "metadata": {},
   "outputs": [],
   "source": [
    "# listing the current directory\n",
    "print(os.listdir(\".\"))"
   ]
  },
  {
   "cell_type": "code",
   "execution_count": null,
   "metadata": {},
   "outputs": [],
   "source": [
    "# dataset path\n",
    "filepath = \"./Ninapro_DB1/Ninapro_DB1.csv\"\n",
    "\n",
    "# creating the data frame\n",
    "df = pd.read_csv(filepath_or_buffer=filepath, na_filter=False)\n",
    "\n",
    "print(\"[+] Data frame created\")"
   ]
  },
  {
   "cell_type": "code",
   "execution_count": null,
   "metadata": {},
   "outputs": [],
   "source": [
    "# # Loading only some rows\n",
    "# df_periodic = pd.read_csv(filepath_or_buffer=filepath,\n",
    "#                           skiprows=0,\n",
    "#                           nrows=1000,\n",
    "#                           na_filter=False)\n",
    "\n",
    "# print(\"[+] Data frame created\")"
   ]
  },
  {
   "cell_type": "code",
   "execution_count": null,
   "metadata": {},
   "outputs": [],
   "source": [
    "# showing the data frame\n",
    "df.head()\n",
    "# df_periodic.head()"
   ]
  },
  {
   "cell_type": "code",
   "execution_count": null,
   "metadata": {},
   "outputs": [],
   "source": [
    "# function to print info\n",
    "def show_info(df):\n",
    "    print(\"Shape:\", df.shape)\n",
    "    print(\"Null Values:\", df[df.isnull().any(axis=1)].shape[0])\n",
    "    print(\"Data types:\\n\", df.dtypes)"
   ]
  },
  {
   "cell_type": "code",
   "execution_count": null,
   "metadata": {},
   "outputs": [],
   "source": [
    "# Information about the df\n",
    "show_info(df)\n",
    "# show_info(df_periodic)"
   ]
  },
  {
   "cell_type": "code",
   "execution_count": null,
   "metadata": {},
   "outputs": [],
   "source": [
    "# pre processing\n",
    "cols = [\"Unnamed: 0\", \"stimulus\", \"restimulus\",\n",
    "        \"repetition\", \"rerepetition\", \"subject\"]\n",
    "df.drop(labels=cols, axis=1, inplace=True)\n",
    "\n",
    "print(\"[+] Columns dropped:\", cols)"
   ]
  },
  {
   "cell_type": "code",
   "execution_count": null,
   "metadata": {},
   "outputs": [],
   "source": [
    "# new data frame\n",
    "df.head()"
   ]
  },
  {
   "cell_type": "code",
   "execution_count": null,
   "metadata": {},
   "outputs": [],
   "source": [
    "# features / labels\n",
    "X = df.iloc[0:, :-1]\n",
    "y = df.iloc[0:, -1]\n",
    "\n",
    "print(\"features:\", X.shape[1])\n",
    "print(\"label:\", y.shape)"
   ]
  },
  {
   "cell_type": "code",
   "execution_count": null,
   "metadata": {},
   "outputs": [],
   "source": [
    "# Information about labels\n",
    "print(y.value_counts(sort=True, ascending=True, dropna=False))"
   ]
  },
  {
   "cell_type": "code",
   "execution_count": null,
   "metadata": {},
   "outputs": [],
   "source": [
    "# train test split\n",
    "X_train, y_train, X_test, y_test = train_test_split(X, y,\n",
    "                                                    test_size=0.2,\n",
    "                                                    train_size=0.8,\n",
    "                                                    shuffle=True)\n",
    "\n",
    "print(\"Splitted into train(80%) and test (20%)\")"
   ]
  },
  {
   "cell_type": "code",
   "execution_count": null,
   "metadata": {},
   "outputs": [],
   "source": [
    "# Models\n",
    "KNN = KNeighborsClassifier(n_neighbors=100,\n",
    "                           weights=\"distance\",\n",
    "                           algorithm=\"auto\",\n",
    "                           leaf_size=50)\n",
    "\n",
    "SVM = svm.SVC(kernel=\"sigmoid\",\n",
    "              decision_function_shape=\"ovo\")\n",
    "\n",
    "RNDF = RandomForestClassifier(n_estimators=100,\n",
    "                              criterion=\"log_loss\")"
   ]
  },
  {
   "cell_type": "code",
   "execution_count": null,
   "metadata": {},
   "outputs": [],
   "source": [
    "# fitting to knn\n",
    "KNN.fit(X_train, y_train)"
   ]
  },
  {
   "cell_type": "code",
   "execution_count": null,
   "metadata": {},
   "outputs": [],
   "source": [
    "# predict using knn\n",
    "knn_predicts = KNN.predict(X_test)"
   ]
  },
  {
   "cell_type": "code",
   "execution_count": null,
   "metadata": {},
   "outputs": [],
   "source": [
    "# fitting to svm\n",
    "SVM.fit(X_train, y_train)"
   ]
  },
  {
   "cell_type": "code",
   "execution_count": null,
   "metadata": {},
   "outputs": [],
   "source": [
    "# predicting using svm\n",
    "svm_predicts = SVM.predict(X_test)"
   ]
  },
  {
   "cell_type": "code",
   "execution_count": null,
   "metadata": {},
   "outputs": [],
   "source": [
    "# fitting to random forest\n",
    "RNDF.fit(X_train, y_train)"
   ]
  },
  {
   "cell_type": "code",
   "execution_count": null,
   "metadata": {},
   "outputs": [],
   "source": [
    "# predicting using random forest\n",
    "rndf_predicts = RNDF.predict(X_test)"
   ]
  },
  {
   "cell_type": "code",
   "execution_count": null,
   "metadata": {},
   "outputs": [],
   "source": [
    "# accuracies\n",
    "def calc_accuracy(classifier):\n",
    "    accuracies = cross_val_score(estimator=classifier, X=X, y=y, cv=10)\n",
    "    print(accuracies.mean())\n",
    "    print(accuracies.std())\n",
    "\n",
    "# confusion matrix\n",
    "def show_matrix(y_pred):\n",
    "    cm = confusion_matrix(y_test, y_pred)\n",
    "    print(cm)"
   ]
  },
  {
   "cell_type": "code",
   "execution_count": null,
   "metadata": {},
   "outputs": [],
   "source": [
    "calc_accuracy(KNN)\n",
    "calc_accuracy(SVM)\n",
    "calc_accuracy(RNDF)\n",
    "\n",
    "show_matrix(knn_predicts)\n",
    "show_matrix(svm_predicts)\n",
    "show_matrix(rndf_predicts)"
   ]
  }
 ],
 "metadata": {
  "kernelspec": {
   "display_name": "Python 3",
   "language": "python",
   "name": "python3"
  },
  "language_info": {
   "codemirror_mode": {
    "name": "ipython",
    "version": 3
   },
   "file_extension": ".py",
   "mimetype": "text/x-python",
   "name": "python",
   "nbconvert_exporter": "python",
   "pygments_lexer": "ipython3",
   "version": "3.11.2"
  }
 },
 "nbformat": 4,
 "nbformat_minor": 2
}
