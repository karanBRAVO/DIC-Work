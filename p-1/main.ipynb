{
 "cells": [
  {
   "cell_type": "code",
   "execution_count": 34,
   "metadata": {},
   "outputs": [],
   "source": [
    "# Importing the required libraries\n",
    "import numpy as np\n",
    "import pandas as pd\n",
    "import os\n",
    "from sklearn.model_selection import train_test_split\n",
    "from sklearn.preprocessing import StandardScaler\n",
    "from sklearn.ensemble import RandomForestClassifier\n",
    "from sklearn.metrics import confusion_matrix\n",
    "from sklearn.model_selection import cross_val_score"
   ]
  },
  {
   "cell_type": "code",
   "execution_count": 35,
   "metadata": {},
   "outputs": [
    {
     "name": "stdout",
     "output_type": "stream",
     "text": [
      "Dataset files: ['0.csv', '1.csv', '2.csv', '3.csv']\n"
     ]
    }
   ],
   "source": [
    "# Looking the directory\n",
    "FILE_PATH = \"./dataset\"\n",
    "FILES = os.listdir(FILE_PATH)\n",
    "print(\"Dataset files:\", FILES)"
   ]
  },
  {
   "cell_type": "code",
   "execution_count": 36,
   "metadata": {},
   "outputs": [
    {
     "name": "stdout",
     "output_type": "stream",
     "text": [
      "4\n"
     ]
    }
   ],
   "source": [
    "# Loading the csv's\n",
    "data_frames = []\n",
    "for fileName in FILES:\n",
    "    data_frames.append(pd.read_csv(FILE_PATH + f\"/{fileName}\", header=None))\n",
    "print(data_frames.__len__())"
   ]
  },
  {
   "cell_type": "code",
   "execution_count": 37,
   "metadata": {},
   "outputs": [
    {
     "name": "stdout",
     "output_type": "stream",
     "text": [
      "Data frame 0\n",
      "     0    1    2    3     4     5      6     7     8    9   ...    55    56  \\\n",
      "0  26.0  4.0  5.0  8.0  -1.0 -13.0 -109.0 -66.0  -9.0  2.0  ... -28.0  61.0   \n",
      "1 -47.0 -6.0 -5.0 -7.0  13.0  -1.0   35.0 -10.0  10.0 -4.0  ... -25.0  47.0   \n",
      "\n",
      "    57   58   59    60    61     62    63  64  \n",
      "0  4.0  8.0  5.0   4.0  -7.0  -59.0  16.0   0  \n",
      "1  6.0  6.0  5.0  13.0  21.0  111.0  15.0   0  \n",
      "\n",
      "[2 rows x 65 columns]\n",
      "Data frame 1\n",
      "    0    1    2    3     4     5    6    7     8    9   ...   55    56   57  \\\n",
      "0 -7.0 -1.0 -1.0  0.0 -10.0 -10.0 -1.0  1.0  -5.0 -5.0  ...  6.0  -4.0 -3.0   \n",
      "1 -6.0 -2.0 -5.0 -2.0  27.0  42.0  3.0  5.0  11.0  1.0  ...  2.0 -17.0 -5.0   \n",
      "\n",
      "    58   59    60    61   62   63  64  \n",
      "0 -5.0 -3.0  15.0  11.0 -4.0 -5.0   1  \n",
      "1 -7.0 -2.0  15.0  12.0  0.0 -7.0   1  \n",
      "\n",
      "[2 rows x 65 columns]\n",
      "Data frame 2\n",
      "    0     1     2    3     4     5    6     7    8     9   ...   55    56  \\\n",
      "0  4.0  19.0  -9.0 -7.0  -3.0 -36.0 -6.0 -23.0  3.0 -21.0  ...  9.0 -14.0   \n",
      "1 -1.0  12.0  20.0  7.0  20.0 -73.0 -4.0  -2.0  4.0   5.0  ... -3.0  -5.0   \n",
      "\n",
      "    57   58   59    60   61   62    63  64  \n",
      "0 -2.0 -3.0 -4.0 -21.0  7.0 -8.0 -12.0   2  \n",
      "1 -2.0  0.0 -4.0  -7.0  5.0  6.0   9.0   2  \n",
      "\n",
      "[2 rows x 65 columns]\n",
      "Data frame 3\n",
      "     0    1    2    3     4     5    6    7    8    9   ...    55    56   57  \\\n",
      "0 -22.0 -9.0 -6.0 -1.0  21.0  26.0 -2.0  5.0  5.0  0.0  ... -10.0 -15.0 -6.0   \n",
      "1  -7.0  0.0  1.0  0.0 -13.0 -18.0  0.0 -9.0 -6.0 -2.0  ...  -1.0  11.0 -4.0   \n",
      "\n",
      "    58   59    60    61   62   63  64  \n",
      "0 -3.0  3.0  20.0  25.0  1.0  1.0   3  \n",
      "1 -5.0 -4.0   3.0  -8.0 -7.0 -3.0   3  \n",
      "\n",
      "[2 rows x 65 columns]\n"
     ]
    }
   ],
   "source": [
    "# Reading the first 2 rows\n",
    "for i, df in enumerate(data_frames):\n",
    "    print(f\"Data frame {i}\")\n",
    "    print(df.head(2))"
   ]
  },
  {
   "cell_type": "code",
   "execution_count": 38,
   "metadata": {},
   "outputs": [
    {
     "name": "stdout",
     "output_type": "stream",
     "text": [
      "     0    1    2    3     4     5      6     7     8    9   ...    55    56  \\\n",
      "0  26.0  4.0  5.0  8.0  -1.0 -13.0 -109.0 -66.0  -9.0  2.0  ... -28.0  61.0   \n",
      "1 -47.0 -6.0 -5.0 -7.0  13.0  -1.0   35.0 -10.0  10.0 -4.0  ... -25.0  47.0   \n",
      "\n",
      "    57   58   59    60    61     62    63  64  \n",
      "0  4.0  8.0  5.0   4.0  -7.0  -59.0  16.0   0  \n",
      "1  6.0  6.0  5.0  13.0  21.0  111.0  15.0   0  \n",
      "\n",
      "[2 rows x 65 columns]\n"
     ]
    }
   ],
   "source": [
    "# Creating a combined dataframe\n",
    "df = pd.concat(data_frames[0:])\n",
    "print(df.head(2))"
   ]
  },
  {
   "cell_type": "code",
   "execution_count": 39,
   "metadata": {},
   "outputs": [],
   "source": [
    "X = df.iloc[:, :-1].values  # Features\n",
    "y = df.iloc[:, -1].values  # labels"
   ]
  },
  {
   "cell_type": "code",
   "execution_count": 40,
   "metadata": {},
   "outputs": [],
   "source": [
    "# train-test split\n",
    "X_train, X_test, y_train, y_test = train_test_split(X, y, test_size = 0.25, random_state = 0)"
   ]
  },
  {
   "cell_type": "code",
   "execution_count": 41,
   "metadata": {},
   "outputs": [],
   "source": [
    "# scaling\n",
    "sc = StandardScaler()\n",
    "X_train = sc.fit_transform(X_train)\n",
    "X_test = sc.transform(X_test)"
   ]
  },
  {
   "cell_type": "code",
   "execution_count": 42,
   "metadata": {},
   "outputs": [
    {
     "name": "stdout",
     "output_type": "stream",
     "text": [
      "[[-0.02992967 -0.44025523 -1.05772552 ...  0.64174639  0.3339397\n",
      "  -0.15716195]\n",
      " [ 0.3439229   0.57419475 -0.45305449 ... -0.69006835  0.17635129\n",
      "  -0.79587394]\n",
      " [ 0.18370037  0.23604476  0.95784456 ...  2.20858727  0.49152811\n",
      "  -0.85974513]\n",
      " ...\n",
      " [ 2.90748342  0.32058226  1.15940157 ...  0.56340435  1.12188174\n",
      "   0.48155004]\n",
      " [-0.1901522   0.06696976 -0.04994048 ...  3.14869179  0.64911652\n",
      "   0.22606525]\n",
      " [ 0.02347784  0.06696976  0.35317354 ... -0.4158712  -2.18747484\n",
      "  -1.17910113]]\n"
     ]
    }
   ],
   "source": [
    "print(X_train)"
   ]
  },
  {
   "cell_type": "code",
   "execution_count": 43,
   "metadata": {},
   "outputs": [
    {
     "data": {
      "text/html": [
       "<style>#sk-container-id-2 {color: black;}#sk-container-id-2 pre{padding: 0;}#sk-container-id-2 div.sk-toggleable {background-color: white;}#sk-container-id-2 label.sk-toggleable__label {cursor: pointer;display: block;width: 100%;margin-bottom: 0;padding: 0.3em;box-sizing: border-box;text-align: center;}#sk-container-id-2 label.sk-toggleable__label-arrow:before {content: \"▸\";float: left;margin-right: 0.25em;color: #696969;}#sk-container-id-2 label.sk-toggleable__label-arrow:hover:before {color: black;}#sk-container-id-2 div.sk-estimator:hover label.sk-toggleable__label-arrow:before {color: black;}#sk-container-id-2 div.sk-toggleable__content {max-height: 0;max-width: 0;overflow: hidden;text-align: left;background-color: #f0f8ff;}#sk-container-id-2 div.sk-toggleable__content pre {margin: 0.2em;color: black;border-radius: 0.25em;background-color: #f0f8ff;}#sk-container-id-2 input.sk-toggleable__control:checked~div.sk-toggleable__content {max-height: 200px;max-width: 100%;overflow: auto;}#sk-container-id-2 input.sk-toggleable__control:checked~label.sk-toggleable__label-arrow:before {content: \"▾\";}#sk-container-id-2 div.sk-estimator input.sk-toggleable__control:checked~label.sk-toggleable__label {background-color: #d4ebff;}#sk-container-id-2 div.sk-label input.sk-toggleable__control:checked~label.sk-toggleable__label {background-color: #d4ebff;}#sk-container-id-2 input.sk-hidden--visually {border: 0;clip: rect(1px 1px 1px 1px);clip: rect(1px, 1px, 1px, 1px);height: 1px;margin: -1px;overflow: hidden;padding: 0;position: absolute;width: 1px;}#sk-container-id-2 div.sk-estimator {font-family: monospace;background-color: #f0f8ff;border: 1px dotted black;border-radius: 0.25em;box-sizing: border-box;margin-bottom: 0.5em;}#sk-container-id-2 div.sk-estimator:hover {background-color: #d4ebff;}#sk-container-id-2 div.sk-parallel-item::after {content: \"\";width: 100%;border-bottom: 1px solid gray;flex-grow: 1;}#sk-container-id-2 div.sk-label:hover label.sk-toggleable__label {background-color: #d4ebff;}#sk-container-id-2 div.sk-serial::before {content: \"\";position: absolute;border-left: 1px solid gray;box-sizing: border-box;top: 0;bottom: 0;left: 50%;z-index: 0;}#sk-container-id-2 div.sk-serial {display: flex;flex-direction: column;align-items: center;background-color: white;padding-right: 0.2em;padding-left: 0.2em;position: relative;}#sk-container-id-2 div.sk-item {position: relative;z-index: 1;}#sk-container-id-2 div.sk-parallel {display: flex;align-items: stretch;justify-content: center;background-color: white;position: relative;}#sk-container-id-2 div.sk-item::before, #sk-container-id-2 div.sk-parallel-item::before {content: \"\";position: absolute;border-left: 1px solid gray;box-sizing: border-box;top: 0;bottom: 0;left: 50%;z-index: -1;}#sk-container-id-2 div.sk-parallel-item {display: flex;flex-direction: column;z-index: 1;position: relative;background-color: white;}#sk-container-id-2 div.sk-parallel-item:first-child::after {align-self: flex-end;width: 50%;}#sk-container-id-2 div.sk-parallel-item:last-child::after {align-self: flex-start;width: 50%;}#sk-container-id-2 div.sk-parallel-item:only-child::after {width: 0;}#sk-container-id-2 div.sk-dashed-wrapped {border: 1px dashed gray;margin: 0 0.4em 0.5em 0.4em;box-sizing: border-box;padding-bottom: 0.4em;background-color: white;}#sk-container-id-2 div.sk-label label {font-family: monospace;font-weight: bold;display: inline-block;line-height: 1.2em;}#sk-container-id-2 div.sk-label-container {text-align: center;}#sk-container-id-2 div.sk-container {/* jupyter's `normalize.less` sets `[hidden] { display: none; }` but bootstrap.min.css set `[hidden] { display: none !important; }` so we also need the `!important` here to be able to override the default hidden behavior on the sphinx rendered scikit-learn.org. See: https://github.com/scikit-learn/scikit-learn/issues/21755 */display: inline-block !important;position: relative;}#sk-container-id-2 div.sk-text-repr-fallback {display: none;}</style><div id=\"sk-container-id-2\" class=\"sk-top-container\"><div class=\"sk-text-repr-fallback\"><pre>RandomForestClassifier(criterion=&#x27;entropy&#x27;, n_estimators=20, random_state=0)</pre><b>In a Jupyter environment, please rerun this cell to show the HTML representation or trust the notebook. <br />On GitHub, the HTML representation is unable to render, please try loading this page with nbviewer.org.</b></div><div class=\"sk-container\" hidden><div class=\"sk-item\"><div class=\"sk-estimator sk-toggleable\"><input class=\"sk-toggleable__control sk-hidden--visually\" id=\"sk-estimator-id-2\" type=\"checkbox\" checked><label for=\"sk-estimator-id-2\" class=\"sk-toggleable__label sk-toggleable__label-arrow\">RandomForestClassifier</label><div class=\"sk-toggleable__content\"><pre>RandomForestClassifier(criterion=&#x27;entropy&#x27;, n_estimators=20, random_state=0)</pre></div></div></div></div></div>"
      ],
      "text/plain": [
       "RandomForestClassifier(criterion='entropy', n_estimators=20, random_state=0)"
      ]
     },
     "execution_count": 43,
     "metadata": {},
     "output_type": "execute_result"
    }
   ],
   "source": [
    "classifier = RandomForestClassifier(n_estimators=20, random_state=0, criterion='entropy')\n",
    "classifier.fit(X_train, y_train)"
   ]
  },
  {
   "cell_type": "code",
   "execution_count": 44,
   "metadata": {},
   "outputs": [
    {
     "name": "stdout",
     "output_type": "stream",
     "text": [
      "[2 2 3 3 1]\n"
     ]
    }
   ],
   "source": [
    "# Predicting\n",
    "y_pred = classifier.predict(X_test)\n",
    "print(y_pred[0:5])"
   ]
  },
  {
   "cell_type": "code",
   "execution_count": 45,
   "metadata": {},
   "outputs": [
    {
     "name": "stdout",
     "output_type": "stream",
     "text": [
      "[[689   0   9   8]\n",
      " [  0 651  21  37]\n",
      " [ 10  13 689  34]\n",
      " [ 49  36  52 622]]\n"
     ]
    }
   ],
   "source": [
    "# confusion matrix\n",
    "cm = confusion_matrix(y_test, y_pred)\n",
    "print(cm)"
   ]
  },
  {
   "cell_type": "code",
   "execution_count": 47,
   "metadata": {},
   "outputs": [
    {
     "name": "stdout",
     "output_type": "stream",
     "text": [
      "0.9054702814851335\n",
      "0.05796461854381617\n",
      "Test set classification rate: 0.9078767123287671\n"
     ]
    }
   ],
   "source": [
    "accuracies = cross_val_score(estimator=classifier, X=X, y=y, cv=10)\n",
    "print(accuracies.mean())\n",
    "print(accuracies.std())\n",
    "\n",
    "print(\"Test set classification rate: {}\".format(np.mean(y_pred == y_test)))"
   ]
  },
  {
   "cell_type": "code",
   "execution_count": null,
   "metadata": {},
   "outputs": [],
   "source": []
  }
 ],
 "metadata": {
  "kernelspec": {
   "display_name": "Python 3",
   "language": "python",
   "name": "python3"
  },
  "language_info": {
   "codemirror_mode": {
    "name": "ipython",
    "version": 3
   },
   "file_extension": ".py",
   "mimetype": "text/x-python",
   "name": "python",
   "nbconvert_exporter": "python",
   "pygments_lexer": "ipython3",
   "version": "3.11.2"
  }
 },
 "nbformat": 4,
 "nbformat_minor": 2
}
