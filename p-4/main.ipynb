{
 "cells": [
  {
   "cell_type": "markdown",
   "metadata": {},
   "source": [
    "# DIC Recruitment"
   ]
  },
  {
   "cell_type": "markdown",
   "metadata": {},
   "source": [
    "### Question 1: \n",
    "\n",
    "- From the given 1d array arr, generate a 2d matrix using strides,\n",
    "- For example for an array ([ 0, 1, 2, 3, 4, 5, 6, 7, 8, 9, 10, 11, 12, 13, 14])with a window\n",
    "length of w=4 and strides of s=2, like [[0,1,2,3], [2,3,4,5], [4,5,6,7]..]\n",
    "w and s will be provided by user"
   ]
  },
  {
   "cell_type": "code",
   "execution_count": 13,
   "metadata": {},
   "outputs": [
    {
     "name": "stdout",
     "output_type": "stream",
     "text": [
      "Window Length: 5\n",
      "Strides: 3\n",
      "Array: [0, 1, 2, 3, 4, 5, 6, 7, 8, 9, 10, 11, 12, 13, 14, 15, 16, 17, 18, 19]\n",
      "2d Matrix: [[0, 1, 2, 3, 4], [3, 4, 5, 6, 7], [6, 7, 8, 9, 10], [9, 10, 11, 12, 13], [12, 13, 14, 15, 16], [15, 16, 17, 18, 19]]\n"
     ]
    }
   ],
   "source": [
    "w = int(input(\"Window length:\"))\n",
    "s = int(input(\"Strides:\"))\n",
    "\n",
    "arr = [int(x) for x in input().split()]\n",
    "\n",
    "print(\"Window Length:\", w)\n",
    "print(\"Strides:\", s)\n",
    "print(\"Array:\", arr)\n",
    "\n",
    "ans = []\n",
    "\n",
    "i = 0\n",
    "while i < len(arr):\n",
    "    if i + w <= len(arr):\n",
    "        _arr = arr[i: i + w]\n",
    "        ans.append(_arr)\n",
    "    i += s\n",
    "\n",
    "print(\"2d Matrix:\", ans)"
   ]
  },
  {
   "cell_type": "markdown",
   "metadata": {},
   "source": [
    "### Question 2:\n",
    "\n",
    "- Create one hot encoding of an array. For example For an array([2, 3, 2, 2, 2, 1]) Output\n",
    "should be\n",
    "- array([[ 0., 1., 0.],\n",
    "[ 0., 0., 1.],\n",
    "[ 0., 1., 0.],\n",
    "[ 0., 1., 0.],\n",
    "[ 0., 1., 0.],\n",
    "[ 1., 0., 0.]])"
   ]
  },
  {
   "cell_type": "code",
   "execution_count": 27,
   "metadata": {},
   "outputs": [
    {
     "name": "stdout",
     "output_type": "stream",
     "text": [
      "Array:  [6, 6, 2, 3, 3, 1, 2]\n",
      "One Hot Encoded Array:\n",
      "[\n",
      "\t [1.0, 0.0, 0.0, 0.0]\n",
      "\t [1.0, 0.0, 0.0, 0.0]\n",
      "\t [0.0, 1.0, 0.0, 0.0]\n",
      "\t [0.0, 0.0, 1.0, 0.0]\n",
      "\t [0.0, 0.0, 1.0, 0.0]\n",
      "\t [0.0, 0.0, 0.0, 1.0]\n",
      "\t [0.0, 1.0, 0.0, 0.0]\n",
      "]\n"
     ]
    }
   ],
   "source": [
    "arr = [6, 6, 2, 3, 3, 1, 2]\n",
    "print(\"Array: \", arr)\n",
    "\n",
    "one_hot_encoded = []\n",
    "\n",
    "s = {}\n",
    "\n",
    "idx = 0\n",
    "for i in range(len(arr)):\n",
    "    key = arr[i]\n",
    "    if key not in s:\n",
    "        s[key] = idx\n",
    "        idx += 1\n",
    "\n",
    "unique_values = len(s)\n",
    "\n",
    "for i in range(len(arr)):\n",
    "    idx = s[arr[i]]\n",
    "    _arr = [0.] * unique_values\n",
    "    _arr[idx] = 1.\n",
    "    one_hot_encoded.append(_arr)\n",
    "\n",
    "print(\"One Hot Encoded Array:\\n[\")\n",
    "for ele in one_hot_encoded:\n",
    "    print(\"\\t\", ele)\n",
    "print(\"]\")"
   ]
  },
  {
   "cell_type": "markdown",
   "metadata": {},
   "source": [
    "### Question: 3\n",
    "\n",
    "- Calculate Word Frequencies. \n",
    "- Take a set of sentences in a string as an input. \n",
    "- Count each unique occurrence of a word and calculate frequency of occurrence and store in a dictionary.\n",
    "- Produce a frequency table.\n",
    "\n",
    "`Hint1`: Iterate through the string, placing the words into a dict. The first time a word is seen, the\n",
    "frequency is 1. Each time the word is seen again, increment the frequency.\n",
    "\n",
    "`Hint2`: Similar program given in Tuple Dictionary Notebook."
   ]
  },
  {
   "cell_type": "code",
   "execution_count": 30,
   "metadata": {},
   "outputs": [
    {
     "name": "stdout",
     "output_type": "stream",
     "text": [
      "Frequency table: {'a': 10, 'sentence': 1, 'is': 4, 'typically': 1, 'associated': 1, 'with': 1, 'clause,': 1, 'and': 3, 'clause': 7, 'can': 1, 'be': 1, 'either': 1, 'simplex': 2, 'or': 3, 'complex.': 1, 'if': 2, 'it': 3, 'represents': 2, 'single': 1, 'process': 1, 'going': 1, 'on': 1, 'through': 1, 'time,': 1, 'complex': 1, 'logical': 1, 'relation': 1, 'between': 1, 'two': 2, 'more': 2, 'processes': 1, 'thus': 1, 'composed': 1, 'of': 1, 'simplexes.': 1}\n"
     ]
    }
   ],
   "source": [
    "sentence = \"\"\"A sentence is typically associated with a clause, and a clause can be either a clause simplex or a clause complex. A clause is a clause simplex if it represents a single process going on through time, and it is a clause complex if it represents a logical relation between two or more processes and is thus composed of two or more clause simplexes.\"\"\"\n",
    "\n",
    "freq = {}\n",
    "\n",
    "s = sentence.split(\" \")\n",
    "\n",
    "for word in s:\n",
    "    w = word.lower()\n",
    "    if w in freq:\n",
    "        freq[w] += 1\n",
    "    else:\n",
    "        freq[w] = 1\n",
    "\n",
    "print(\"Frequency table:\", freq)"
   ]
  },
  {
   "cell_type": "markdown",
   "metadata": {},
   "source": [
    "### Question: 4\n",
    "\n",
    "- A date of the form 8-MAR-85 includes the name of the month, which must be translated to a number.\n",
    "- Create a dict suitable for decoding month names to numbers. \n",
    "- Create a function which uses string operations to split the date into 3 items using the \"-\" character.\n",
    "- Translate the month, correct the year to include all of the digits.\n",
    "- The function will accept a date in the \"dd-MMM-yy\" format and respond with a tuple of ( y, m , d )."
   ]
  },
  {
   "cell_type": "code",
   "execution_count": 39,
   "metadata": {},
   "outputs": [
    {
     "name": "stdout",
     "output_type": "stream",
     "text": [
      "Response:  (20, 2, 8)\n"
     ]
    }
   ],
   "source": [
    "date = \"11-FEB-24\"\n",
    "\n",
    "months = {\"jan\": 0, \"feb\": 1, \"mar\": 2, \"apr\": 3, \"may\": 4, \"jun\": 5,\n",
    "          \"jul\": 6, \"aug\": 7, \"sep\": 8, \"oct\": 9, \"nov\": 10, \"dec\": 11}\n",
    "\n",
    "\n",
    "def respond(s: str) -> tuple:\n",
    "    ans = []\n",
    "    start = 0\n",
    "    for i in range(0, len(s)):\n",
    "        if s[i] == \"-\":\n",
    "            ans.append(s[start: i])\n",
    "            start = i + 1\n",
    "        elif i == len(s) - 1:\n",
    "            ans.append(s[start: i + 1])\n",
    "            start = i + 1\n",
    "    return (int(ans[2]), months[ans[1].lower()], int(ans[0]))\n",
    "\n",
    "\n",
    "print(\"Response: \", respond(date))"
   ]
  }
 ],
 "metadata": {
  "kernelspec": {
   "display_name": "Python 3",
   "language": "python",
   "name": "python3"
  },
  "language_info": {
   "codemirror_mode": {
    "name": "ipython",
    "version": 3
   },
   "file_extension": ".py",
   "mimetype": "text/x-python",
   "name": "python",
   "nbconvert_exporter": "python",
   "pygments_lexer": "ipython3",
   "version": "3.11.2"
  }
 },
 "nbformat": 4,
 "nbformat_minor": 2
}
